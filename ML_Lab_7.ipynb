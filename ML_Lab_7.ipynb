{
  "nbformat": 4,
  "nbformat_minor": 0,
  "metadata": {
    "colab": {
      "provenance": []
    },
    "kernelspec": {
      "name": "python3",
      "display_name": "Python 3"
    },
    "language_info": {
      "name": "python"
    }
  },
  "cells": [
    {
      "cell_type": "markdown",
      "source": [
        "A1"
      ],
      "metadata": {
        "id": "91VHY3Y9z97n"
      }
    },
    {
      "cell_type": "code",
      "execution_count": null,
      "metadata": {
        "id": "bwcfsyLCxFQU"
      },
      "outputs": [],
      "source": [
        "import pandas as pd\n",
        "from sklearn.model_selection import train_test_split\n",
        "\n",
        "# Load the dataset\n",
        "data = pd.read_csv('/content/healthcare-dataset-stroke-data.csv')  # Replace 'your_dataset.csv' with the actual file path\n",
        "\n",
        "# Handle missing values in the 'bmi' column (replace 'N/A' with appropriate values)\n",
        "data['bmi'] = data['bmi'].replace('N/A', 0.0).astype(float)\n",
        "\n",
        "# Encode categorical variables using one-hot encoding\n",
        "data = pd.get_dummies(data, columns=['gender', 'ever_married', 'work_type', 'Residence_type', 'smoking_status'], drop_first=True)\n",
        "\n",
        "# Define the features (X) and target variable (y)\n",
        "X = data.drop(columns=['id', 'stroke'])\n",
        "y = data['stroke']\n",
        "\n",
        "# Split the dataset into training and testing sets\n",
        "X_train, X_test, y_train, y_test = train_test_split(X, y, test_size=0.2, random_state=42)\n"
      ]
    },
    {
      "cell_type": "code",
      "source": [
        "import pandas as pd\n",
        "import numpy as np\n",
        "from sklearn.model_selection import train_test_split\n",
        "from sklearn import svm\n",
        "from sklearn.impute import SimpleImputer\n",
        "from sklearn.preprocessing import LabelEncoder\n",
        "from sklearn.preprocessing import StandardScaler\n",
        "import warnings\n",
        "\n",
        "# Load the dataset\n",
        "data = pd.read_csv('/content/healthcare-dataset-stroke-data.csv')\n",
        "\n",
        "# Handle missing values in the 'bmi' column\n",
        "data['bmi'] = data['bmi'].replace('N/A', np.nan).astype(float)\n",
        "\n",
        "# Encode categorical variables using label encoding\n",
        "label_encoder = LabelEncoder()\n",
        "data['gender'] = label_encoder.fit_transform(data['gender'])\n",
        "data['ever_married'] = label_encoder.fit_transform(data['ever_married'])\n",
        "data['work_type'] = label_encoder.fit_transform(data['work_type'])\n",
        "data['Residence_type'] = label_encoder.fit_transform(data['Residence_type'])\n",
        "data['smoking_status'] = label_encoder.fit_transform(data['smoking_status'])\n",
        "\n",
        "# Define the features (X) and target variable (y)\n",
        "X = data.drop(columns=['id', 'stroke'])\n",
        "y = data['stroke']\n",
        "\n",
        "# Split the dataset into training and testing sets\n",
        "X_train, X_test, y_train, y_test = train_test_split(X, y, test_size=0.2, random_state=42)\n",
        "\n",
        "# Impute missing values in the 'bmi' column with the mean\n",
        "imputer = SimpleImputer(strategy='mean')\n",
        "X_train['bmi'] = imputer.fit_transform(X_train[['bmi']])\n",
        "X_test['bmi'] = imputer.transform(X_test[['bmi']])\n",
        "\n",
        "# Scale the feature vectors using StandardScaler\n",
        "scaler = StandardScaler()\n",
        "X_train = scaler.fit_transform(X_train)\n",
        "X_test = scaler.transform(X_test)\n",
        "\n",
        "# Create an SVM classifier and suppress warnings\n",
        "clf = svm.SVC()\n",
        "with warnings.catch_warnings():\n",
        "    warnings.filterwarnings(\"ignore\", category=UserWarning)\n",
        "    clf.fit(X_train, y_train)\n",
        "\n",
        "# Get the support vectors\n",
        "support_vectors = clf.support_vectors_\n",
        "print(\"Support Vectors:\\n\", support_vectors)\n"
      ],
      "metadata": {
        "colab": {
          "base_uri": "https://localhost:8080/"
        },
        "id": "qj-TSjlUxYnS",
        "outputId": "4bcef98e-f95e-4dca-cf76-1a4256095736"
      },
      "execution_count": 3,
      "outputs": [
        {
          "output_type": "stream",
          "name": "stdout",
          "text": [
            "Support Vectors:\n",
            " [[ 1.19299477  1.58415472 -0.32198091 ...  0.13559307 -0.05830677\n",
            "  -0.35272473]\n",
            " [ 1.19299477  0.6521907   3.10577419 ...  2.05387242  0.53466829\n",
            "   0.57996524]\n",
            " [ 1.19299477  0.56343222 -0.32198091 ... -0.21071421  0.16083619\n",
            "  -1.28541469]\n",
            " ...\n",
            " [ 1.19299477  0.60781146 -0.32198091 ...  1.99074805  0.71513896\n",
            "  -0.35272473]\n",
            " [ 1.19299477  0.78532842 -0.32198091 ...  2.26647879  0.\n",
            "  -1.28541469]\n",
            " [-0.83822664  1.31787929  3.10577419 ...  1.83425223  0.97295421\n",
            "   0.57996524]]\n"
          ]
        }
      ]
    },
    {
      "cell_type": "markdown",
      "source": [
        "A2"
      ],
      "metadata": {
        "id": "LcpvG6Ll0CZZ"
      }
    },
    {
      "cell_type": "code",
      "source": [
        "import pandas as pd\n",
        "import numpy as np\n",
        "from sklearn.model_selection import train_test_split\n",
        "from sklearn import svm\n",
        "from sklearn.impute import SimpleImputer\n",
        "from sklearn.preprocessing import LabelEncoder\n",
        "from sklearn.metrics import accuracy_score, classification_report\n",
        "import warnings\n",
        "\n",
        "# Load the dataset from the file\n",
        "data = pd.read_csv('/content/healthcare-dataset-stroke-data.csv')\n",
        "\n",
        "# Handle missing values in the 'bmi' column\n",
        "data['bmi'] = data['bmi'].replace('N/A', np.nan).astype(float)\n",
        "\n",
        "# Encode categorical variables using label encoding\n",
        "label_encoder = LabelEncoder()\n",
        "data['gender'] = label_encoder.fit_transform(data['gender'])\n",
        "data['ever_married'] = label_encoder.fit_transform(data['ever_married'])\n",
        "data['work_type'] = label_encoder.fit_transform(data['work_type'])\n",
        "data['Residence_type'] = label_encoder.fit_transform(data['Residence_type'])\n",
        "data['smoking_status'] = label_encoder.fit_transform(data['smoking_status'])\n",
        "\n",
        "# Define the features (X) and target variable (y)\n",
        "X = data.drop(columns=['id', 'stroke'])\n",
        "y = data['stroke']\n",
        "\n",
        "# Split the dataset into training and testing sets\n",
        "X_train, X_test, y_train, y_test = train_test_split(X, y, test_size=0.2, random_state=42)\n",
        "\n",
        "# Impute missing values in the 'bmi' column with the mean\n",
        "imputer = SimpleImputer(strategy='mean')\n",
        "X_train['bmi'] = imputer.fit_transform(X_train[['bmi']])\n",
        "X_test['bmi'] = imputer.transform(X_test[['bmi']])\n",
        "\n",
        "# Create an SVM classifier\n",
        "clf = svm.SVC()\n",
        "\n",
        "# Fit the SVM model on the training data\n",
        "with warnings.catch_warnings():\n",
        "    warnings.filterwarnings(\"ignore\", category=UserWarning)\n",
        "    clf.fit(X_train, y_train)\n",
        "\n",
        "# Get the support vectors\n",
        "support_vectors = clf.support_vectors_\n",
        "print(\"Support Vectors:\\n\", support_vectors)\n",
        "\n",
        "# Test the accuracy of the SVM classifier on the test set\n",
        "with warnings.catch_warnings():\n",
        "    warnings.filterwarnings(\"ignore\", category=UserWarning)\n",
        "    y_pred = clf.predict(X_test)\n",
        "accuracy = accuracy_score(y_test, y_pred)\n",
        "print(\"Accuracy:\", accuracy)\n",
        "\n",
        "# Generate a classification report\n",
        "with warnings.catch_warnings():\n",
        "    warnings.filterwarnings(\"ignore\", category=UserWarning)\n",
        "    classification_rep = classification_report(y_test, y_pred)\n",
        "print(\"Classification Report:\\n\", classification_rep)\n"
      ],
      "metadata": {
        "colab": {
          "base_uri": "https://localhost:8080/"
        },
        "id": "93FYsexV0EaY",
        "outputId": "65476d5d-e636-403c-ee4a-4a87a8b44917"
      },
      "execution_count": 4,
      "outputs": [
        {
          "output_type": "stream",
          "name": "stdout",
          "text": [
            "Support Vectors:\n",
            " [[  0.          62.           0.         ...  88.32        36.3\n",
            "    0.        ]\n",
            " [  0.          79.           0.         ...  93.89        30.4\n",
            "    2.        ]\n",
            " [  0.          81.           0.         ...  71.91        19.2\n",
            "    0.        ]\n",
            " ...\n",
            " [  1.          57.           0.         ... 197.28        34.5\n",
            "    1.        ]\n",
            " [  1.          61.           0.         ... 209.86        28.95231434\n",
            "    0.        ]\n",
            " [  0.          73.           1.         ... 190.14        36.5\n",
            "    2.        ]]\n",
            "Accuracy: 0.9393346379647749\n",
            "Classification Report:\n",
            "               precision    recall  f1-score   support\n",
            "\n",
            "           0       0.94      1.00      0.97       960\n",
            "           1       0.00      0.00      0.00        62\n",
            "\n",
            "    accuracy                           0.94      1022\n",
            "   macro avg       0.47      0.50      0.48      1022\n",
            "weighted avg       0.88      0.94      0.91      1022\n",
            "\n"
          ]
        }
      ]
    },
    {
      "cell_type": "markdown",
      "source": [
        "A3"
      ],
      "metadata": {
        "id": "qKhgfHE01DtO"
      }
    },
    {
      "cell_type": "code",
      "source": [
        "import pandas as pd\n",
        "import numpy as np\n",
        "from sklearn.model_selection import train_test_split\n",
        "from sklearn import svm\n",
        "from sklearn.impute import SimpleImputer\n",
        "from sklearn.preprocessing import LabelEncoder\n",
        "from sklearn.metrics import accuracy_score, classification_report\n",
        "import warnings\n",
        "\n",
        "# Load the dataset from the CSV file\n",
        "data = pd.read_csv('/content/healthcare-dataset-stroke-data.csv')\n",
        "\n",
        "# Handle missing values in the 'bmi' column (replace 'N/A' with NaN)\n",
        "data['bmi'] = data['bmi'].replace('N/A', float('nan'))\n",
        "\n",
        "# Encode categorical variables using label encoding\n",
        "label_encoder = LabelEncoder()\n",
        "data['gender'] = label_encoder.fit_transform(data['gender'])\n",
        "data['ever_married'] = label_encoder.fit_transform(data['ever_married'])\n",
        "data['work_type'] = label_encoder.fit_transform(data['work_type'])\n",
        "data['Residence_type'] = label_encoder.fit_transform(data['Residence_type'])\n",
        "data['smoking_status'] = label_encoder.fit_transform(data['smoking_status'])\n",
        "\n",
        "# Define the features (X) and target variable (y)\n",
        "X = data.drop(columns=['id', 'stroke'])\n",
        "y = data['stroke']\n",
        "\n",
        "# Split the dataset into training and testing sets\n",
        "X_train, X_test, y_train, y_test = train_test_split(X, y, test_size=0.2, random_state=42)\n",
        "\n",
        "# Impute missing values in the 'bmi' column with the mean\n",
        "imputer = SimpleImputer(strategy='mean')\n",
        "X_train['bmi'] = imputer.fit_transform(X_train[['bmi']])\n",
        "X_test['bmi'] = imputer.transform(X_test[['bmi']])\n",
        "\n",
        "# Create an SVM classifier\n",
        "clf = svm.SVC()\n",
        "\n",
        "# Fit the SVM model on the training data\n",
        "clf.fit(X_train, y_train)\n",
        "\n",
        "# Predict the class values for the test set\n",
        "y_pred = clf.predict(X_test)\n",
        "\n",
        "# Calculate accuracy using sklearn's accuracy_score\n",
        "accuracy = accuracy_score(y_test, y_pred)\n",
        "print(\"Accuracy:\", accuracy)\n",
        "\n",
        "# Generate a classification report with zero_division parameter\n",
        "classification_rep = classification_report(y_test, y_pred, zero_division=0)\n",
        "print(\"Classification Report:\\n\", classification_rep)\n"
      ],
      "metadata": {
        "colab": {
          "base_uri": "https://localhost:8080/"
        },
        "id": "bS4o-Azi1Fqc",
        "outputId": "b8718187-d543-4e19-9d23-f17940950452"
      },
      "execution_count": 7,
      "outputs": [
        {
          "output_type": "stream",
          "name": "stdout",
          "text": [
            "Accuracy: 0.9393346379647749\n",
            "Classification Report:\n",
            "               precision    recall  f1-score   support\n",
            "\n",
            "           0       0.94      1.00      0.97       960\n",
            "           1       0.00      0.00      0.00        62\n",
            "\n",
            "    accuracy                           0.94      1022\n",
            "   macro avg       0.47      0.50      0.48      1022\n",
            "weighted avg       0.88      0.94      0.91      1022\n",
            "\n"
          ]
        }
      ]
    },
    {
      "cell_type": "markdown",
      "source": [
        "A4"
      ],
      "metadata": {
        "id": "YDWkucvM1rRd"
      }
    },
    {
      "cell_type": "code",
      "source": [
        "\n",
        "import pandas as pd\n",
        "import numpy as np\n",
        "import warnings\n",
        "from sklearn.model_selection import train_test_split\n",
        "from sklearn import svm\n",
        "from sklearn.impute import SimpleImputer\n",
        "from sklearn.preprocessing import LabelEncoder\n",
        "from sklearn.metrics import accuracy_score, classification_report\n",
        "\n",
        "# Load the dataset from the CSV file\n",
        "data = pd.read_csv('/content/healthcare-dataset-stroke-data.csv')\n",
        "\n",
        "# Handle missing values in the 'bmi' column (replace 'N/A' with NaN)\n",
        "data['bmi'] = data['bmi'].replace('N/A', float('nan'))\n",
        "\n",
        "# Encode categorical variables using label encoding\n",
        "label_encoder = LabelEncoder()\n",
        "data['gender'] = label_encoder.fit_transform(data['gender'])\n",
        "data['ever_married'] = label_encoder.fit_transform(data['ever_married'])\n",
        "data['work_type'] = label_encoder.fit_transform(data['work_type'])\n",
        "data['Residence_type'] = label_encoder.fit_transform(data['Residence_type'])\n",
        "data['smoking_status'] = label_encoder.fit_transform(data['smoking_status'])\n",
        "\n",
        "# Define the features (X) and target variable (y)\n",
        "X = data.drop(columns=['id', 'stroke'])\n",
        "y = data['stroke']\n",
        "\n",
        "# Split the dataset into training and testing sets\n",
        "X_train, X_test, y_train, y_test = train_test_split(X, y, test_size=0.2, random_state=42)\n",
        "\n",
        "# Impute missing values in the 'bmi' column with the mean\n",
        "imputer = SimpleImputer(strategy='mean')\n",
        "X_train['bmi'] = imputer.fit_transform(X_train[['bmi']])\n",
        "X_test['bmi'] = imputer.transform(X_test[['bmi']])\n",
        "\n",
        "# Experiment with different kernel functions\n",
        "kernel_functions = ['linear', 'poly', 'rbf', 'sigmoid']\n",
        "\n",
        "# Suppress warnings temporarily\n",
        "with warnings.catch_warnings():\n",
        "    warnings.filterwarnings(\"ignore\")\n",
        "\n",
        "    for kernel in kernel_functions:\n",
        "        # Create an SVM classifier with the specified kernel\n",
        "        clf = svm.SVC(kernel=kernel)\n",
        "\n",
        "        # Fit the SVM model on the training data\n",
        "        clf.fit(X_train, y_train)\n",
        "\n",
        "        # Predict the class values for the test set\n",
        "        y_pred = clf.predict(X_test)\n",
        "\n",
        "        # Calculate accuracy using sklearn's accuracy_score\n",
        "        accuracy = accuracy_score(y_test, y_pred)\n",
        "        print(f\"Kernel: {kernel}, Accuracy: {accuracy}\")\n",
        "\n",
        "        # Generate a classification report\n",
        "        classification_rep = classification_report(y_test, y_pred)\n",
        "        print(f\"Classification Report for {kernel}:\\n\", classification_rep)\n"
      ],
      "metadata": {
        "colab": {
          "base_uri": "https://localhost:8080/"
        },
        "id": "QGgRqKVG1su3",
        "outputId": "e5253baf-51d5-4cf3-ca5d-e58cdb6c9bbf"
      },
      "execution_count": null,
      "outputs": [
        {
          "output_type": "stream",
          "name": "stdout",
          "text": [
            "Kernel: linear, Accuracy: 0.9393346379647749\n",
            "Classification Report for linear:\n",
            "               precision    recall  f1-score   support\n",
            "\n",
            "           0       0.94      1.00      0.97       960\n",
            "           1       0.00      0.00      0.00        62\n",
            "\n",
            "    accuracy                           0.94      1022\n",
            "   macro avg       0.47      0.50      0.48      1022\n",
            "weighted avg       0.88      0.94      0.91      1022\n",
            "\n",
            "Kernel: poly, Accuracy: 0.9393346379647749\n",
            "Classification Report for poly:\n",
            "               precision    recall  f1-score   support\n",
            "\n",
            "           0       0.94      1.00      0.97       960\n",
            "           1       0.00      0.00      0.00        62\n",
            "\n",
            "    accuracy                           0.94      1022\n",
            "   macro avg       0.47      0.50      0.48      1022\n",
            "weighted avg       0.88      0.94      0.91      1022\n",
            "\n",
            "Kernel: rbf, Accuracy: 0.9393346379647749\n",
            "Classification Report for rbf:\n",
            "               precision    recall  f1-score   support\n",
            "\n",
            "           0       0.94      1.00      0.97       960\n",
            "           1       0.00      0.00      0.00        62\n",
            "\n",
            "    accuracy                           0.94      1022\n",
            "   macro avg       0.47      0.50      0.48      1022\n",
            "weighted avg       0.88      0.94      0.91      1022\n",
            "\n",
            "Kernel: sigmoid, Accuracy: 0.9393346379647749\n",
            "Classification Report for sigmoid:\n",
            "               precision    recall  f1-score   support\n",
            "\n",
            "           0       0.94      1.00      0.97       960\n",
            "           1       0.00      0.00      0.00        62\n",
            "\n",
            "    accuracy                           0.94      1022\n",
            "   macro avg       0.47      0.50      0.48      1022\n",
            "weighted avg       0.88      0.94      0.91      1022\n",
            "\n"
          ]
        }
      ]
    }
  ]
}