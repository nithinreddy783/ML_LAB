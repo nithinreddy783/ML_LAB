{
  "nbformat": 4,
  "nbformat_minor": 0,
  "metadata": {
    "colab": {
      "provenance": []
    },
    "kernelspec": {
      "name": "python3",
      "display_name": "Python 3"
    },
    "language_info": {
      "name": "python"
    }
  },
  "cells": [
    {
      "cell_type": "markdown",
      "source": [
        "A1"
      ],
      "metadata": {
        "id": "91VHY3Y9z97n"
      }
    },
    {
      "cell_type": "code",
      "execution_count": null,
      "metadata": {
        "id": "bwcfsyLCxFQU"
      },
      "outputs": [],
      "source": [
        "import pandas as pd\n",
        "from sklearn.model_selection import train_test_split\n",
        "\n",
        "# Load the dataset\n",
        "data = pd.read_csv('/content/healthcare-dataset-stroke-data.csv')  # Replace 'your_dataset.csv' with the actual file path\n",
        "\n",
        "# Handle missing values in the 'bmi' column (replace 'N/A' with appropriate values)\n",
        "data['bmi'] = data['bmi'].replace('N/A', 0.0).astype(float)\n",
        "\n",
        "# Encode categorical variables using one-hot encoding\n",
        "data = pd.get_dummies(data, columns=['gender', 'ever_married', 'work_type', 'Residence_type', 'smoking_status'], drop_first=True)\n",
        "\n",
        "# Define the features (X) and target variable (y)\n",
        "X = data.drop(columns=['id', 'stroke'])\n",
        "y = data['stroke']\n",
        "\n",
        "# Split the dataset into training and testing sets\n",
        "X_train, X_test, y_train, y_test = train_test_split(X, y, test_size=0.2, random_state=42)\n"
      ]
    },
    {
      "cell_type": "code",
      "source": [
        "import pandas as pd\n",
        "import numpy as np\n",
        "from sklearn.model_selection import train_test_split\n",
        "from sklearn import svm\n",
        "from sklearn.impute import SimpleImputer\n",
        "from sklearn.preprocessing import LabelEncoder\n",
        "\n",
        "# Load the dataset\n",
        "data = pd.read_csv('/content/healthcare-dataset-stroke-data.csv')\n",
        "\n",
        "# Handle missing values in the 'bmi' column\n",
        "data['bmi'] = data['bmi'].replace('N/A', np.nan).astype(float)\n",
        "\n",
        "# Encode categorical variables using label encoding\n",
        "label_encoder = LabelEncoder()\n",
        "data['gender'] = label_encoder.fit_transform(data['gender'])\n",
        "data['ever_married'] = label_encoder.fit_transform(data['ever_married'])\n",
        "data['work_type'] = label_encoder.fit_transform(data['work_type'])\n",
        "data['Residence_type'] = label_encoder.fit_transform(data['Residence_type'])\n",
        "data['smoking_status'] = label_encoder.fit_transform(data['smoking_status'])\n",
        "\n",
        "# Define the features (X) and target variable (y)\n",
        "X = data.drop(columns=['id', 'stroke'])\n",
        "y = data['stroke']\n",
        "\n",
        "# Split the dataset into training and testing sets\n",
        "X_train, X_test, y_train, y_test = train_test_split(X, y, test_size=0.2, random_state=42)\n",
        "\n",
        "# Impute missing values in the 'bmi' column with the mean\n",
        "imputer = SimpleImputer(strategy='mean')\n",
        "X_train['bmi'] = imputer.fit_transform(X_train[['bmi']])\n",
        "X_test['bmi'] = imputer.transform(X_test['bmi'].values.reshape(-1, 1))  # Reshape the 1D array to 2D\n",
        "\n",
        "# Create an SVM classifier\n",
        "clf = svm.SVC()\n",
        "\n",
        "# Fit the SVM model on the training data\n",
        "clf.fit(X_train, y_train)\n",
        "\n",
        "# Get the support vectors\n",
        "support_vectors = clf.support_vectors_\n",
        "print(\"Support Vectors:\\n\", support_vectors)\n"
      ],
      "metadata": {
        "colab": {
          "base_uri": "https://localhost:8080/"
        },
        "id": "qj-TSjlUxYnS",
        "outputId": "c7c1cf5a-eb98-4238-c17c-104e64aa3ff2"
      },
      "execution_count": 13,
      "outputs": [
        {
          "output_type": "stream",
          "name": "stdout",
          "text": [
            "Support Vectors:\n",
            " [[  0.          62.           0.         ...  88.32        36.3\n",
            "    0.        ]\n",
            " [  0.          79.           0.         ...  93.89        30.4\n",
            "    2.        ]\n",
            " [  0.          81.           0.         ...  71.91        19.2\n",
            "    0.        ]\n",
            " ...\n",
            " [  1.          57.           0.         ... 197.28        34.5\n",
            "    1.        ]\n",
            " [  1.          61.           0.         ... 209.86        28.95231434\n",
            "    0.        ]\n",
            " [  0.          73.           1.         ... 190.14        36.5\n",
            "    2.        ]]\n"
          ]
        },
        {
          "output_type": "stream",
          "name": "stderr",
          "text": [
            "/usr/local/lib/python3.10/dist-packages/sklearn/base.py:439: UserWarning: X does not have valid feature names, but SimpleImputer was fitted with feature names\n",
            "  warnings.warn(\n"
          ]
        }
      ]
    },
    {
      "cell_type": "markdown",
      "source": [
        "A2"
      ],
      "metadata": {
        "id": "LcpvG6Ll0CZZ"
      }
    },
    {
      "cell_type": "code",
      "source": [
        "import pandas as pd\n",
        "import numpy as np\n",
        "from sklearn.model_selection import train_test_split\n",
        "from sklearn import svm\n",
        "from sklearn.impute import SimpleImputer\n",
        "from sklearn.preprocessing import LabelEncoder\n",
        "from sklearn.metrics import accuracy_score, classification_report\n",
        "\n",
        "# Load the dataset from the file\n",
        "data = pd.read_csv('/content/healthcare-dataset-stroke-data.csv')\n",
        "\n",
        "# Handle missing values in the 'bmi' column\n",
        "data['bmi'] = data['bmi'].replace('N/A', np.nan).astype(float)\n",
        "\n",
        "# Encode categorical variables using label encoding\n",
        "label_encoder = LabelEncoder()\n",
        "data['gender'] = label_encoder.fit_transform(data['gender'])\n",
        "data['ever_married'] = label_encoder.fit_transform(data['ever_married'])\n",
        "data['work_type'] = label_encoder.fit_transform(data['work_type'])\n",
        "data['Residence_type'] = label_encoder.fit_transform(data['Residence_type'])\n",
        "data['smoking_status'] = label_encoder.fit_transform(data['smoking_status'])\n",
        "\n",
        "# Define the features (X) and target variable (y)\n",
        "X = data.drop(columns=['id', 'stroke'])\n",
        "y = data['stroke']\n",
        "\n",
        "# Split the dataset into training and testing sets\n",
        "X_train, X_test, y_train, y_test = train_test_split(X, y, test_size=0.2, random_state=42)\n",
        "\n",
        "# Impute missing values in the 'bmi' column with the mean\n",
        "imputer = SimpleImputer(strategy='mean')\n",
        "X_train['bmi'] = imputer.fit_transform(X_train[['bmi']])\n",
        "X_test['bmi'] = imputer.transform(X_test['bmi'].values.reshape(-1, 1))\n",
        "\n",
        "# Create an SVM classifier\n",
        "clf = svm.SVC()\n",
        "\n",
        "# Fit the SVM model on the training data\n",
        "clf.fit(X_train, y_train)\n",
        "\n",
        "# Get the support vectors\n",
        "support_vectors = clf.support_vectors_\n",
        "print(\"Support Vectors:\\n\", support_vectors)\n",
        "\n",
        "# Test the accuracy of the SVM classifier on the test set\n",
        "y_pred = clf.predict(X_test)\n",
        "accuracy = accuracy_score(y_test, y_pred)\n",
        "print(\"Accuracy:\", accuracy)\n",
        "\n",
        "# Generate a classification report\n",
        "classification_rep = classification_report(y_test, y_pred)\n",
        "print(\"Classification Report:\\n\", classification_rep)\n"
      ],
      "metadata": {
        "colab": {
          "base_uri": "https://localhost:8080/"
        },
        "id": "93FYsexV0EaY",
        "outputId": "f7770954-0c84-4a22-970c-766d232c4bc3"
      },
      "execution_count": 15,
      "outputs": [
        {
          "output_type": "stream",
          "name": "stderr",
          "text": [
            "/usr/local/lib/python3.10/dist-packages/sklearn/base.py:439: UserWarning: X does not have valid feature names, but SimpleImputer was fitted with feature names\n",
            "  warnings.warn(\n"
          ]
        },
        {
          "output_type": "stream",
          "name": "stdout",
          "text": [
            "Support Vectors:\n",
            " [[  0.          62.           0.         ...  88.32        36.3\n",
            "    0.        ]\n",
            " [  0.          79.           0.         ...  93.89        30.4\n",
            "    2.        ]\n",
            " [  0.          81.           0.         ...  71.91        19.2\n",
            "    0.        ]\n",
            " ...\n",
            " [  1.          57.           0.         ... 197.28        34.5\n",
            "    1.        ]\n",
            " [  1.          61.           0.         ... 209.86        28.95231434\n",
            "    0.        ]\n",
            " [  0.          73.           1.         ... 190.14        36.5\n",
            "    2.        ]]\n",
            "Accuracy: 0.9393346379647749\n",
            "Classification Report:\n",
            "               precision    recall  f1-score   support\n",
            "\n",
            "           0       0.94      1.00      0.97       960\n",
            "           1       0.00      0.00      0.00        62\n",
            "\n",
            "    accuracy                           0.94      1022\n",
            "   macro avg       0.47      0.50      0.48      1022\n",
            "weighted avg       0.88      0.94      0.91      1022\n",
            "\n"
          ]
        },
        {
          "output_type": "stream",
          "name": "stderr",
          "text": [
            "/usr/local/lib/python3.10/dist-packages/sklearn/metrics/_classification.py:1344: UndefinedMetricWarning: Precision and F-score are ill-defined and being set to 0.0 in labels with no predicted samples. Use `zero_division` parameter to control this behavior.\n",
            "  _warn_prf(average, modifier, msg_start, len(result))\n",
            "/usr/local/lib/python3.10/dist-packages/sklearn/metrics/_classification.py:1344: UndefinedMetricWarning: Precision and F-score are ill-defined and being set to 0.0 in labels with no predicted samples. Use `zero_division` parameter to control this behavior.\n",
            "  _warn_prf(average, modifier, msg_start, len(result))\n",
            "/usr/local/lib/python3.10/dist-packages/sklearn/metrics/_classification.py:1344: UndefinedMetricWarning: Precision and F-score are ill-defined and being set to 0.0 in labels with no predicted samples. Use `zero_division` parameter to control this behavior.\n",
            "  _warn_prf(average, modifier, msg_start, len(result))\n"
          ]
        }
      ]
    },
    {
      "cell_type": "markdown",
      "source": [
        "A3"
      ],
      "metadata": {
        "id": "qKhgfHE01DtO"
      }
    },
    {
      "cell_type": "code",
      "source": [
        "import pandas as pd\n",
        "from sklearn.model_selection import train_test_split\n",
        "from sklearn import svm\n",
        "from sklearn.impute import SimpleImputer\n",
        "from sklearn.preprocessing import LabelEncoder\n",
        "from sklearn.metrics import accuracy_score, classification_report\n",
        "\n",
        "# Load the dataset from the CSV file\n",
        "data = pd.read_csv('/content/healthcare-dataset-stroke-data.csv')\n",
        "\n",
        "# Handle missing values in the 'bmi' column (replace 'N/A' with NaN)\n",
        "data['bmi'] = data['bmi'].replace('N/A', float('nan'))\n",
        "\n",
        "# Encode categorical variables using label encoding\n",
        "label_encoder = LabelEncoder()\n",
        "data['gender'] = label_encoder.fit_transform(data['gender'])\n",
        "data['ever_married'] = label_encoder.fit_transform(data['ever_married'])\n",
        "data['work_type'] = label_encoder.fit_transform(data['work_type'])\n",
        "data['Residence_type'] = label_encoder.fit_transform(data['Residence_type'])\n",
        "data['smoking_status'] = label_encoder.fit_transform(data['smoking_status'])\n",
        "\n",
        "# Define the features (X) and target variable (y)\n",
        "X = data.drop(columns=['id', 'stroke'])\n",
        "y = data['stroke']\n",
        "\n",
        "# Split the dataset into training and testing sets\n",
        "X_train, X_test, y_train, y_test = train_test_split(X, y, test_size=0.2, random_state=42)\n",
        "\n",
        "# Impute missing values in the 'bmi' column with the mean\n",
        "imputer = SimpleImputer(strategy='mean')\n",
        "X_train['bmi'] = imputer.fit_transform(X_train[['bmi']])\n",
        "X_test['bmi'] = imputer.transform(X_test[['bmi']])\n",
        "\n",
        "# Create an SVM classifier\n",
        "clf = svm.SVC()\n",
        "\n",
        "# Fit the SVM model on the training data\n",
        "clf.fit(X_train, y_train)\n",
        "\n",
        "# Predict the class values for the test set\n",
        "y_pred = clf.predict(X_test)\n",
        "\n",
        "# Calculate accuracy using sklearn's accuracy_score\n",
        "accuracy = accuracy_score(y_test, y_pred)\n",
        "print(\"Accuracy:\", accuracy)\n",
        "\n",
        "# Generate a classification report\n",
        "classification_rep = classification_report(y_test, y_pred)\n",
        "print(\"Classification Report:\\n\", classification_rep)\n"
      ],
      "metadata": {
        "colab": {
          "base_uri": "https://localhost:8080/"
        },
        "id": "bS4o-Azi1Fqc",
        "outputId": "0d401409-4f26-4e35-a5f9-f6db51788f0c"
      },
      "execution_count": 16,
      "outputs": [
        {
          "output_type": "stream",
          "name": "stdout",
          "text": [
            "Accuracy: 0.9393346379647749\n",
            "Classification Report:\n",
            "               precision    recall  f1-score   support\n",
            "\n",
            "           0       0.94      1.00      0.97       960\n",
            "           1       0.00      0.00      0.00        62\n",
            "\n",
            "    accuracy                           0.94      1022\n",
            "   macro avg       0.47      0.50      0.48      1022\n",
            "weighted avg       0.88      0.94      0.91      1022\n",
            "\n"
          ]
        },
        {
          "output_type": "stream",
          "name": "stderr",
          "text": [
            "/usr/local/lib/python3.10/dist-packages/sklearn/metrics/_classification.py:1344: UndefinedMetricWarning: Precision and F-score are ill-defined and being set to 0.0 in labels with no predicted samples. Use `zero_division` parameter to control this behavior.\n",
            "  _warn_prf(average, modifier, msg_start, len(result))\n",
            "/usr/local/lib/python3.10/dist-packages/sklearn/metrics/_classification.py:1344: UndefinedMetricWarning: Precision and F-score are ill-defined and being set to 0.0 in labels with no predicted samples. Use `zero_division` parameter to control this behavior.\n",
            "  _warn_prf(average, modifier, msg_start, len(result))\n",
            "/usr/local/lib/python3.10/dist-packages/sklearn/metrics/_classification.py:1344: UndefinedMetricWarning: Precision and F-score are ill-defined and being set to 0.0 in labels with no predicted samples. Use `zero_division` parameter to control this behavior.\n",
            "  _warn_prf(average, modifier, msg_start, len(result))\n"
          ]
        }
      ]
    },
    {
      "cell_type": "markdown",
      "source": [
        "A4"
      ],
      "metadata": {
        "id": "YDWkucvM1rRd"
      }
    },
    {
      "cell_type": "code",
      "source": [
        "\n",
        "import pandas as pd\n",
        "import numpy as np\n",
        "import warnings\n",
        "from sklearn.model_selection import train_test_split\n",
        "from sklearn import svm\n",
        "from sklearn.impute import SimpleImputer\n",
        "from sklearn.preprocessing import LabelEncoder\n",
        "from sklearn.metrics import accuracy_score, classification_report\n",
        "\n",
        "# Load the dataset from the CSV file\n",
        "data = pd.read_csv('/content/healthcare-dataset-stroke-data.csv')\n",
        "\n",
        "# Handle missing values in the 'bmi' column (replace 'N/A' with NaN)\n",
        "data['bmi'] = data['bmi'].replace('N/A', float('nan'))\n",
        "\n",
        "# Encode categorical variables using label encoding\n",
        "label_encoder = LabelEncoder()\n",
        "data['gender'] = label_encoder.fit_transform(data['gender'])\n",
        "data['ever_married'] = label_encoder.fit_transform(data['ever_married'])\n",
        "data['work_type'] = label_encoder.fit_transform(data['work_type'])\n",
        "data['Residence_type'] = label_encoder.fit_transform(data['Residence_type'])\n",
        "data['smoking_status'] = label_encoder.fit_transform(data['smoking_status'])\n",
        "\n",
        "# Define the features (X) and target variable (y)\n",
        "X = data.drop(columns=['id', 'stroke'])\n",
        "y = data['stroke']\n",
        "\n",
        "# Split the dataset into training and testing sets\n",
        "X_train, X_test, y_train, y_test = train_test_split(X, y, test_size=0.2, random_state=42)\n",
        "\n",
        "# Impute missing values in the 'bmi' column with the mean\n",
        "imputer = SimpleImputer(strategy='mean')\n",
        "X_train['bmi'] = imputer.fit_transform(X_train[['bmi']])\n",
        "X_test['bmi'] = imputer.transform(X_test[['bmi']])\n",
        "\n",
        "# Experiment with different kernel functions\n",
        "kernel_functions = ['linear', 'poly', 'rbf', 'sigmoid']\n",
        "\n",
        "# Suppress warnings temporarily\n",
        "with warnings.catch_warnings():\n",
        "    warnings.filterwarnings(\"ignore\")\n",
        "\n",
        "    for kernel in kernel_functions:\n",
        "        # Create an SVM classifier with the specified kernel\n",
        "        clf = svm.SVC(kernel=kernel)\n",
        "\n",
        "        # Fit the SVM model on the training data\n",
        "        clf.fit(X_train, y_train)\n",
        "\n",
        "        # Predict the class values for the test set\n",
        "        y_pred = clf.predict(X_test)\n",
        "\n",
        "        # Calculate accuracy using sklearn's accuracy_score\n",
        "        accuracy = accuracy_score(y_test, y_pred)\n",
        "        print(f\"Kernel: {kernel}, Accuracy: {accuracy}\")\n",
        "\n",
        "        # Generate a classification report\n",
        "        classification_rep = classification_report(y_test, y_pred)\n",
        "        print(f\"Classification Report for {kernel}:\\n\", classification_rep)\n"
      ],
      "metadata": {
        "colab": {
          "base_uri": "https://localhost:8080/"
        },
        "id": "QGgRqKVG1su3",
        "outputId": "e5253baf-51d5-4cf3-ca5d-e58cdb6c9bbf"
      },
      "execution_count": 2,
      "outputs": [
        {
          "output_type": "stream",
          "name": "stdout",
          "text": [
            "Kernel: linear, Accuracy: 0.9393346379647749\n",
            "Classification Report for linear:\n",
            "               precision    recall  f1-score   support\n",
            "\n",
            "           0       0.94      1.00      0.97       960\n",
            "           1       0.00      0.00      0.00        62\n",
            "\n",
            "    accuracy                           0.94      1022\n",
            "   macro avg       0.47      0.50      0.48      1022\n",
            "weighted avg       0.88      0.94      0.91      1022\n",
            "\n",
            "Kernel: poly, Accuracy: 0.9393346379647749\n",
            "Classification Report for poly:\n",
            "               precision    recall  f1-score   support\n",
            "\n",
            "           0       0.94      1.00      0.97       960\n",
            "           1       0.00      0.00      0.00        62\n",
            "\n",
            "    accuracy                           0.94      1022\n",
            "   macro avg       0.47      0.50      0.48      1022\n",
            "weighted avg       0.88      0.94      0.91      1022\n",
            "\n",
            "Kernel: rbf, Accuracy: 0.9393346379647749\n",
            "Classification Report for rbf:\n",
            "               precision    recall  f1-score   support\n",
            "\n",
            "           0       0.94      1.00      0.97       960\n",
            "           1       0.00      0.00      0.00        62\n",
            "\n",
            "    accuracy                           0.94      1022\n",
            "   macro avg       0.47      0.50      0.48      1022\n",
            "weighted avg       0.88      0.94      0.91      1022\n",
            "\n",
            "Kernel: sigmoid, Accuracy: 0.9393346379647749\n",
            "Classification Report for sigmoid:\n",
            "               precision    recall  f1-score   support\n",
            "\n",
            "           0       0.94      1.00      0.97       960\n",
            "           1       0.00      0.00      0.00        62\n",
            "\n",
            "    accuracy                           0.94      1022\n",
            "   macro avg       0.47      0.50      0.48      1022\n",
            "weighted avg       0.88      0.94      0.91      1022\n",
            "\n"
          ]
        }
      ]
    }
  ]
}