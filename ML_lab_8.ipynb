{
  "nbformat": 4,
  "nbformat_minor": 0,
  "metadata": {
    "colab": {
      "provenance": []
    },
    "kernelspec": {
      "name": "python3",
      "display_name": "Python 3"
    },
    "language_info": {
      "name": "python"
    }
  },
  "cells": [
    {
      "cell_type": "markdown",
      "source": [
        "A1"
      ],
      "metadata": {
        "id": "n2HFz6GVnhe0"
      }
    },
    {
      "cell_type": "code",
      "source": [
        "import pandas as pd\n",
        "data = {\n",
        "    'age': ['<=30', '<=30', '31…40', '>40', '>40', '>40', '31…40', '<=30', '<=30', '>40', '<=30', '31…40', '31…40', '>40'],\n",
        "    'income': ['high', 'high', 'high', 'medium', 'low', 'low', 'low', 'medium', 'low', 'medium', 'medium', 'medium', 'high', 'medium'],\n",
        "    'student': ['no', 'no', 'no', 'no', 'yes', 'yes', 'yes', 'no', 'yes', 'yes', 'yes', 'no', 'yes', 'no'],\n",
        "    'credit_rating': ['fair', 'excellent', 'fair', 'fair', 'fair', 'excellent', 'excellent', 'fair', 'fair', 'fair', 'excellent', 'excellent', 'fair', 'excellent'],\n",
        "    'buys_computer': ['no', 'no', 'yes', 'yes', 'yes', 'no', 'yes', 'no', 'yes', 'yes', 'yes', 'yes', 'yes', 'no']\n",
        "}\n",
        "\n",
        "df = pd.DataFrame(data)\n",
        "c_counts = df['buys_computer'].value_counts()\n",
        "prior_prob = c_counts / len(df['buys_computer'])\n",
        "print(\"Prior Probabilities for Each Class:\")\n",
        "print(prior_prob)\n"
      ],
      "metadata": {
        "colab": {
          "base_uri": "https://localhost:8080/"
        },
        "id": "Cwa5IJTWL3Cw",
        "outputId": "5ac29702-a0af-43bd-f2a2-0b2e09929b5a"
      },
      "execution_count": 7,
      "outputs": [
        {
          "output_type": "stream",
          "name": "stdout",
          "text": [
            "Prior Probabilities for Each Class:\n",
            "yes    0.642857\n",
            "no     0.357143\n",
            "Name: buys_computer, dtype: float64\n"
          ]
        }
      ]
    },
    {
      "cell_type": "markdown",
      "source": [
        "A2"
      ],
      "metadata": {
        "id": "C4rrw5j5nlSf"
      }
    },
    {
      "cell_type": "code",
      "source": [
        "def class_conditional_density(feature, feature_value, target_class):\n",
        "    numerator = df[(df[feature] == feature_value) & (df['buys_computer'] == target_class)].shape[0]\n",
        "    denominator = df[df['buys_computer'] == target_class].shape[0]\n",
        "    return numerator / denominator if denominator != 0 else 0\n",
        "\n",
        "features = ['age', 'income', 'student', 'credit_rating']\n",
        "classes = df['buys_computer'].unique()\n",
        "\n",
        "for feature in features:\n",
        "    for feature_value in df[feature].unique():\n",
        "        for target_class in classes:\n",
        "            density = class_conditional_density(feature, feature_value, target_class)\n",
        "            print(f'P({feature}={feature_value} | buys_computer={target_class}) = {density}')\n",
        "\n"
      ],
      "metadata": {
        "colab": {
          "base_uri": "https://localhost:8080/"
        },
        "id": "PwiX3zdInmzU",
        "outputId": "a8cc1335-a48d-4bf2-d5d8-3ab763049252"
      },
      "execution_count": 2,
      "outputs": [
        {
          "output_type": "stream",
          "name": "stdout",
          "text": [
            "P(age=<=30 | buys_computer=no) = 0.6\n",
            "P(age=<=30 | buys_computer=yes) = 0.2222222222222222\n",
            "P(age=31...40 | buys_computer=no) = 0.0\n",
            "P(age=31...40 | buys_computer=yes) = 0.4444444444444444\n",
            "P(age=>40 | buys_computer=no) = 0.4\n",
            "P(age=>40 | buys_computer=yes) = 0.3333333333333333\n",
            "P(income=high | buys_computer=no) = 0.4\n",
            "P(income=high | buys_computer=yes) = 0.2222222222222222\n",
            "P(income=medium | buys_computer=no) = 0.4\n",
            "P(income=medium | buys_computer=yes) = 0.4444444444444444\n",
            "P(income=low | buys_computer=no) = 0.2\n",
            "P(income=low | buys_computer=yes) = 0.3333333333333333\n",
            "P(student=no | buys_computer=no) = 0.8\n",
            "P(student=no | buys_computer=yes) = 0.3333333333333333\n",
            "P(student=yes | buys_computer=no) = 0.2\n",
            "P(student=yes | buys_computer=yes) = 0.6666666666666666\n",
            "P(credit_rating=fair | buys_computer=no) = 0.4\n",
            "P(credit_rating=fair | buys_computer=yes) = 0.6666666666666666\n",
            "P(credit_rating=excellent | buys_computer=no) = 0.6\n",
            "P(credit_rating=excellent | buys_computer=yes) = 0.3333333333333333\n"
          ]
        }
      ]
    },
    {
      "cell_type": "markdown",
      "source": [
        "A3"
      ],
      "metadata": {
        "id": "WbMa9PbWn24q"
      }
    },
    {
      "cell_type": "code",
      "source": [
        "from scipy.stats import chi2_contingency\n",
        "\n",
        "contingency_table = pd.crosstab(df['age'], [df['income'], df['student'], df['credit_rating']])\n",
        "\n",
        "chi2, p, _, _ = chi2_contingency(contingency_table)\n",
        "\n",
        "print(f\"Chi2 value: {chi2}\")\n",
        "print(f\"P-value: {p}\")\n",
        "\n",
        "alpha = 0.05\n",
        "if p < alpha:\n",
        "    print(\"The features are dependent (reject the null hypothesis of independence).\")\n",
        "else:\n",
        "    print(\"The features are independent (fail to reject the null hypothesis of independence).\")\n"
      ],
      "metadata": {
        "colab": {
          "base_uri": "https://localhost:8080/"
        },
        "id": "zKZme2Ltn1fs",
        "outputId": "bb034f23-62f0-4d4c-a6a8-a22755aca183"
      },
      "execution_count": 3,
      "outputs": [
        {
          "output_type": "stream",
          "name": "stdout",
          "text": [
            "Chi2 value: 12.95\n",
            "P-value: 0.6764100579553458\n",
            "The features are independent (fail to reject the null hypothesis of independence).\n"
          ]
        }
      ]
    },
    {
      "cell_type": "markdown",
      "source": [
        "A4"
      ],
      "metadata": {
        "id": "woNHbTECoQeI"
      }
    },
    {
      "cell_type": "code",
      "source": [
        "from sklearn.model_selection import train_test_split\n",
        "from sklearn.naive_bayes import MultinomialNB\n",
        "from sklearn.preprocessing import LabelEncoder\n",
        "from sklearn.metrics import accuracy_score\n",
        "\n",
        "label_encoder = LabelEncoder()\n",
        "for column in df.columns:\n",
        "    if df[column].dtype == 'object':\n",
        "        df[column] = label_encoder.fit_transform(df[column])\n",
        "\n",
        "X = df.drop('buys_computer', axis=1)\n",
        "y = df['buys_computer']\n",
        "Tr_X, Te_X, Tr_y, Te_y = train_test_split(X, y, test_size=0.2, random_state=42)\n",
        "\n",
        "model = MultinomialNB()\n",
        "model.fit(Tr_X, Tr_y)\n",
        "\n",
        "predictions = model.predict(Te_X)\n",
        "\n",
        "accuracy = accuracy_score(Te_y, predictions)\n",
        "print(f'Accuracy: {accuracy}')\n"
      ],
      "metadata": {
        "colab": {
          "base_uri": "https://localhost:8080/"
        },
        "id": "J4LKWbQroZV7",
        "outputId": "6fd05acf-e587-4b67-bd2d-b7fe93f49d03"
      },
      "execution_count": 4,
      "outputs": [
        {
          "output_type": "stream",
          "name": "stdout",
          "text": [
            "Accuracy: 0.6666666666666666\n"
          ]
        }
      ]
    },
    {
      "cell_type": "markdown",
      "source": [
        "A5"
      ],
      "metadata": {
        "id": "NlCww1Mloxiu"
      }
    },
    {
      "cell_type": "code",
      "source": [
        "import pandas as pd\n",
        "from sklearn.model_selection import train_test_split\n",
        "from sklearn.naive_bayes import MultinomialNB\n",
        "from sklearn.impute import SimpleImputer\n",
        "from sklearn.preprocessing import LabelEncoder\n",
        "from sklearn.metrics import accuracy_score, classification_report\n",
        "\n",
        "df = pd.read_csv('/content/healthcare-dataset-stroke-data.csv')  # Replace 'your_dataset.csv' with the actual file path\n",
        "\n",
        "df['bmi'] = pd.to_numeric(df['bmi'], errors='coerce')\n",
        "\n",
        "label_columns = ['gender', 'ever_married', 'work_type', 'Residence_type', 'smoking_status']\n",
        "label_encoder = {column: LabelEncoder() for column in label_columns}\n",
        "\n",
        "for column in label_columns:\n",
        "    df[column] = label_encoder[column].fit_transform(df[column])\n",
        "\n",
        "X = df.drop(['id', 'stroke'], axis=1)\n",
        "y = df['stroke']\n",
        "\n",
        "Tr_X, Te_X, Tr_y, Te_y = train_test_split(X, y, test_size=0.2, random_state=42)\n",
        "\n",
        "imputer = SimpleImputer(strategy='mean')\n",
        "Tr_X_imputed = imputer.fit_transform(Tr_X)\n",
        "Te_X_imputed = imputer.transform(Te_X)\n",
        "\n",
        "model = MultinomialNB()\n",
        "model.fit(Tr_X_imputed, Tr_y)\n",
        "\n",
        "predictions = model.predict(Te_X_imputed)\n",
        "\n",
        "accuracy = accuracy_score(Te_y, predictions)\n",
        "print(f'Accuracy: {accuracy}')\n",
        "print('\\nClassification Report:')\n",
        "print(classification_report(Te_y, predictions))\n"
      ],
      "metadata": {
        "colab": {
          "base_uri": "https://localhost:8080/"
        },
        "id": "JegTdtcUoyiq",
        "outputId": "54c7d43b-6650-400a-852b-4cdde716581f"
      },
      "execution_count": 6,
      "outputs": [
        {
          "output_type": "stream",
          "name": "stdout",
          "text": [
            "Accuracy: 0.8052837573385518\n",
            "\n",
            "Classification Report:\n",
            "              precision    recall  f1-score   support\n",
            "\n",
            "           0       0.96      0.83      0.89       960\n",
            "           1       0.13      0.40      0.20        62\n",
            "\n",
            "    accuracy                           0.81      1022\n",
            "   macro avg       0.54      0.62      0.54      1022\n",
            "weighted avg       0.91      0.81      0.85      1022\n",
            "\n"
          ]
        }
      ]
    }
  ]
}